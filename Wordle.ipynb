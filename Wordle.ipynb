{
 "cells": [
  {
   "cell_type": "code",
   "execution_count": 2,
   "metadata": {},
   "outputs": [],
   "source": [
    "import csv\n",
    "\n",
    "# Load the dictionaries\n",
    "dictionary = []\n",
    "\n",
    "with open('valid_solutions.csv', 'r') as f:\n",
    "    reader = csv.reader(f)\n",
    "    dictionary.extend([item for sublist in reader for item in sublist])  # Flatten the list and add to dictionary\n",
    "\n",
    "with open('valid_guesses.csv', 'r') as f:\n",
    "    reader = csv.reader(f)\n",
    "    dictionary.extend([item for sublist in reader for item in sublist])  # Flatten the list and add to dictionary\n",
    "\n"
   ]
  },
  {
   "cell_type": "code",
   "execution_count": 3,
   "metadata": {},
   "outputs": [
    {
     "name": "stdout",
     "output_type": "stream",
     "text": [
      "The possible words are: ['court', 'robot', 'poort', 'rozit', 'whort', 'yourt']\n"
     ]
    }
   ],
   "source": [
    "# Green, Yellow and Grey Letters\n",
    "known_letters = {'t':4,} # The keys are the letters and the values are the positions (0-indexed)\n",
    "\n",
    "unknown_letters_not_in_indexes = {'r':[1,2],'o':[4]}  # Unknown letters and the indexes they are not in\n",
    "\n",
    "not_in_word_letters = ['s','a','l','e','f','n']\n",
    "\n",
    "# Filter the dictionary for bad words (>5)\n",
    "possible_words = [word for word in dictionary if len(word) >= 5]  # Check length first\n",
    "\n",
    "# Filtering by green letters (known place)\n",
    "possible_words = [word for word in possible_words if all(word[i] == letter for letter, i in known_letters.items())]\n",
    "\n",
    "# Filtering by yellow letters (in word, known where is not)\n",
    "for letter, not_in_indexes in unknown_letters_not_in_indexes.items():\n",
    "    possible_words = [word for word in possible_words if letter in word and all(word[i] != letter for i in not_in_indexes)]\n",
    "\n",
    "# Filtering by grey letters (letters which are not in word)\n",
    "possible_words = [word for word in possible_words if all(letter not in word for letter in not_in_word_letters)]\n",
    "\n",
    "print(f\"The possible words are: {possible_words}\")\n"
   ]
  },
  {
   "cell_type": "code",
   "execution_count": 17,
   "metadata": {},
   "outputs": [
    {
     "data": {
      "text/html": [
       "<div>\n",
       "<style scoped>\n",
       "    .dataframe tbody tr th:only-of-type {\n",
       "        vertical-align: middle;\n",
       "    }\n",
       "\n",
       "    .dataframe tbody tr th {\n",
       "        vertical-align: top;\n",
       "    }\n",
       "\n",
       "    .dataframe thead th {\n",
       "        text-align: right;\n",
       "    }\n",
       "</style>\n",
       "<table border=\"1\" class=\"dataframe\">\n",
       "  <thead>\n",
       "    <tr style=\"text-align: right;\">\n",
       "      <th></th>\n",
       "      <th>Location</th>\n",
       "      <th>Time</th>\n",
       "      <th>Latitude</th>\n",
       "      <th>Longitude</th>\n",
       "      <th>geometry</th>\n",
       "    </tr>\n",
       "  </thead>\n",
       "  <tbody>\n",
       "    <tr>\n",
       "      <th>0</th>\n",
       "      <td>1</td>\n",
       "      <td>5:23PM</td>\n",
       "      <td>43.4672</td>\n",
       "      <td>-80.4934</td>\n",
       "      <td>POINT (-80.49340 43.46720)</td>\n",
       "    </tr>\n",
       "    <tr>\n",
       "      <th>1</th>\n",
       "      <td>7</td>\n",
       "      <td>5:57PM</td>\n",
       "      <td>43.5066</td>\n",
       "      <td>-80.5191</td>\n",
       "      <td>POINT (-80.51910 43.50660)</td>\n",
       "    </tr>\n",
       "    <tr>\n",
       "      <th>2</th>\n",
       "      <td>4</td>\n",
       "      <td>6:46PM</td>\n",
       "      <td>43.4427</td>\n",
       "      <td>-80.5400</td>\n",
       "      <td>POINT (-80.54000 43.44270)</td>\n",
       "    </tr>\n",
       "    <tr>\n",
       "      <th>3</th>\n",
       "      <td>3</td>\n",
       "      <td>7:07PM</td>\n",
       "      <td>43.4465</td>\n",
       "      <td>-80.5084</td>\n",
       "      <td>POINT (-80.50840 43.44650)</td>\n",
       "    </tr>\n",
       "    <tr>\n",
       "      <th>4</th>\n",
       "      <td>6</td>\n",
       "      <td>7:24PM</td>\n",
       "      <td>43.4386</td>\n",
       "      <td>-80.4855</td>\n",
       "      <td>POINT (-80.48550 43.43860)</td>\n",
       "    </tr>\n",
       "    <tr>\n",
       "      <th>5</th>\n",
       "      <td>5</td>\n",
       "      <td>7:41PM</td>\n",
       "      <td>43.4479</td>\n",
       "      <td>-80.4641</td>\n",
       "      <td>POINT (-80.46410 43.44790)</td>\n",
       "    </tr>\n",
       "    <tr>\n",
       "      <th>6</th>\n",
       "      <td>8</td>\n",
       "      <td>8:00PM</td>\n",
       "      <td>43.4807</td>\n",
       "      <td>-80.5656</td>\n",
       "      <td>POINT (-80.56560 43.48070)</td>\n",
       "    </tr>\n",
       "  </tbody>\n",
       "</table>\n",
       "</div>"
      ],
      "text/plain": [
       "   Location    Time  Latitude  Longitude                    geometry\n",
       "0         1  5:23PM   43.4672   -80.4934  POINT (-80.49340 43.46720)\n",
       "1         7  5:57PM   43.5066   -80.5191  POINT (-80.51910 43.50660)\n",
       "2         4  6:46PM   43.4427   -80.5400  POINT (-80.54000 43.44270)\n",
       "3         3  7:07PM   43.4465   -80.5084  POINT (-80.50840 43.44650)\n",
       "4         6  7:24PM   43.4386   -80.4855  POINT (-80.48550 43.43860)\n",
       "5         5  7:41PM   43.4479   -80.4641  POINT (-80.46410 43.44790)\n",
       "6         8  8:00PM   43.4807   -80.5656  POINT (-80.56560 43.48070)"
      ]
     },
     "execution_count": 17,
     "metadata": {},
     "output_type": "execute_result"
    }
   ],
   "source": []
  }
 ],
 "metadata": {
  "kernelspec": {
   "display_name": "base",
   "language": "python",
   "name": "python3"
  },
  "language_info": {
   "codemirror_mode": {
    "name": "ipython",
    "version": 3
   },
   "file_extension": ".py",
   "mimetype": "text/x-python",
   "name": "python",
   "nbconvert_exporter": "python",
   "pygments_lexer": "ipython3",
   "version": "3.10.9"
  },
  "orig_nbformat": 4
 },
 "nbformat": 4,
 "nbformat_minor": 2
}
