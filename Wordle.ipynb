{
 "cells": [
  {
   "cell_type": "code",
   "execution_count": 4,
   "metadata": {},
   "outputs": [],
   "source": [
    "import csv\n",
    "\n",
    "# Load the dictionaries\n",
    "dictionary = []\n",
    "\n",
    "with open('valid_solutions.csv', 'r') as f:\n",
    "    reader = csv.reader(f)\n",
    "    dictionary.extend([item for sublist in reader for item in sublist])  # Flatten the list and add to dictionary\n",
    "\n",
    "with open('valid_guesses.csv', 'r') as f:\n",
    "    reader = csv.reader(f)\n",
    "    dictionary.extend([item for sublist in reader for item in sublist])  # Flatten the list and add to dictionary\n",
    "\n"
   ]
  },
  {
   "cell_type": "code",
   "execution_count": 3,
   "metadata": {},
   "outputs": [
    {
     "name": "stdout",
     "output_type": "stream",
     "text": [
      "The possible words are: ['tract', 'bract', 'fract']\n"
     ]
    }
   ],
   "source": [
    "# Green, Yellow and Grey Letters\n",
    "known_letters = {'t': 4, 'a':2, 'c':3, 'r':1} # The keys are the letters and the values are the positions (0-indexed)\n",
    "\n",
    "unknown_letters_not_in_indexes = {}  # Unknown letters and the indexes they are not in\n",
    "\n",
    "not_in_word_letters = ['e']\n",
    "\n",
    "# Filter the dictionary for bad words (>5)\n",
    "possible_words = [word for word in dictionary if len(word) >= 5]  # Check length first\n",
    "\n",
    "# Filtering by green letters (known place)\n",
    "possible_words = [word for word in possible_words if all(word[i] == letter for letter, i in known_letters.items())]\n",
    "\n",
    "# Filtering by yellow letters (in word, known where is not)\n",
    "for letter, not_in_indexes in unknown_letters_not_in_indexes.items():\n",
    "    possible_words = [word for word in possible_words if letter in word and all(word[i] != letter for i in not_in_indexes)]\n",
    "\n",
    "# Filtering by grey letters (letters which are not in word)\n",
    "possible_words = [word for word in possible_words if all(letter not in word for letter in not_in_word_letters)]\n",
    "\n",
    "print(f\"The possible words are: {possible_words}\")\n"
   ]
  }
 ],
 "metadata": {
  "kernelspec": {
   "display_name": "base",
   "language": "python",
   "name": "python3"
  },
  "language_info": {
   "codemirror_mode": {
    "name": "ipython",
    "version": 3
   },
   "file_extension": ".py",
   "mimetype": "text/x-python",
   "name": "python",
   "nbconvert_exporter": "python",
   "pygments_lexer": "ipython3",
   "version": "3.10.9"
  },
  "orig_nbformat": 4
 },
 "nbformat": 4,
 "nbformat_minor": 2
}
